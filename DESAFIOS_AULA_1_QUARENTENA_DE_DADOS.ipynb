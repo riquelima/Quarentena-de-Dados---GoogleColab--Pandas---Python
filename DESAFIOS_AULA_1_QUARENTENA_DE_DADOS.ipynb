{
  "nbformat": 4,
  "nbformat_minor": 0,
  "metadata": {
    "colab": {
      "name": "DESAFIOS AULA 1 - QUARENTENA DE DADOS",
      "provenance": [],
      "toc_visible": true,
      "authorship_tag": "ABX9TyMbURPnKpah2yrSvpzgbDKa",
      "include_colab_link": true
    },
    "kernelspec": {
      "name": "python3",
      "display_name": "Python 3"
    }
  },
  "cells": [
    {
      "cell_type": "markdown",
      "metadata": {
        "id": "view-in-github",
        "colab_type": "text"
      },
      "source": [
        "<a href=\"https://colab.research.google.com/github/riquelima/Quarentena-de-Dados---GoogleColab--Pandas---Python/blob/master/DESAFIOS_AULA_1_QUARENTENA_DE_DADOS.ipynb\" target=\"_parent\"><img src=\"https://colab.research.google.com/assets/colab-badge.svg\" alt=\"Open In Colab\"/></a>"
      ]
    },
    {
      "cell_type": "markdown",
      "metadata": {
        "id": "Rz-0JzsPI4c4",
        "colab_type": "text"
      },
      "source": [
        "# < DESAFIOS - AULA 1 - QUARENTENA DE DADOS >\n",
        "1. O Paulo fez uma análise rápida e disse que tem 18 filmes sem avaliações, será que ele acertou? Determine quantos filmes não tem avaliações e quais são esses filmes. DONE\n",
        "\n",
        "2. Mudar o nome da coluna nota do dataframe filmes_com_media para nota_média após o join. - DONE\n",
        "\n",
        "3. Colocar o número de avaliações por filme, isto é, não só a média mas o TOTAL de votos por filme.\n",
        "\n",
        "4. Arredondar as médias (coluna de nota média) para duas casas decimais.\n",
        "\n",
        "5. Descobrir os generos dos filmes (quais são eles, únicos). (esse aqui o bicho pega)\n",
        "\n",
        "6. Contar o número de aparições de cada genero.\n",
        "\n",
        "7. Plotar o gráfico de aparições de cada genero. Pode ser um gráfico de tipo igual a barra.\n",
        "\n",
        "\n",
        "\n",
        "\n",
        "\n",
        "\n",
        "\n",
        "\n",
        "\n",
        "\n"
      ]
    },
    {
      "cell_type": "markdown",
      "metadata": {
        "id": "D8KMk2oFdqKy",
        "colab_type": "text"
      },
      "source": [
        "# Desafio 1 - O Paulo fez uma análise rápida e disse que tem 18 filmes sem avaliações, será que ele acertou? Determine quantos filmes não tem avaliações e quais são esses filmes."
      ]
    },
    {
      "cell_type": "code",
      "metadata": {
        "id": "3i2rXXuLdvYV",
        "colab_type": "code",
        "colab": {}
      },
      "source": [
        "import pandas as pd\n",
        "filmes = pd.read_csv(\"https://raw.githubusercontent.com/alura-cursos/introducao-a-data-science/master/aula0/ml-latest-small/movies.csv\") #Dataframe Filmes\n",
        "filmes.columns = [\"filmeId\", \"titulo\", \"generos\"] #Renomeando colunas do Dataframe Filmes\n",
        "\n",
        "avaliacoes = pd.read_csv(\"https://github.com/alura-cursos/introducao-a-data-science/blob/master/aula0/ml-latest-small/ratings.csv?raw=true\") #Dataframe Avaliacoes\n",
        "avaliacoes.columns = [\"usuarioId\",\"filmeId\",\"nota\",\"momento\"] #Renomeando colunas do Dataframe Avaliacoes\n",
        "\n",
        "notas_medias_por_filme = avaliacoes.groupby(\"filmeId\")[\"nota\"].mean() #Calculando a média das notas por filme \n",
        "\n",
        "filmes_com_medias = filmes.join(notas_medias_por_filme, on =\"filmeId\") #Juntando Dataframe filmes + media de cada filme\n",
        "filmes_com_medias.columns = [\"filmeId\", \"titulo\", \"generos\", \"nota_media\"]\n",
        "\n",
        "selecao = filmes_com_medias['nota_media'].isnull()  # isnull() function detect missing values in the given series object. \n",
        "\n",
        "display(\" ---------- Filmes sem Notas -------------\")\n",
        "filmes_com_medias[selecao]\n"
      ],
      "execution_count": 0,
      "outputs": []
    },
    {
      "cell_type": "markdown",
      "metadata": {
        "id": "eXH2DUf1jzNP",
        "colab_type": "text"
      },
      "source": [
        "#Desafio 2 - Mudar o nome da coluna nota do dataframe filmes_com_media para nota_média após o join:"
      ]
    },
    {
      "cell_type": "code",
      "metadata": {
        "id": "h4VZ0uT3LlG2",
        "colab_type": "code",
        "colab": {}
      },
      "source": [
        "import pandas as pd\n",
        "filmes = pd.read_csv(\"https://raw.githubusercontent.com/alura-cursos/introducao-a-data-science/master/aula0/ml-latest-small/movies.csv\") #Dataframe Filmes\n",
        "filmes.columns = [\"filmeId\", \"titulo\", \"generos\"] #Renomeando colunas do Dataframe Filmes\n",
        "\n",
        "avaliacoes = pd.read_csv(\"https://github.com/alura-cursos/introducao-a-data-science/blob/master/aula0/ml-latest-small/ratings.csv?raw=true\") #Dataframe Avaliacoes\n",
        "avaliacoes.columns = [\"usuarioId\",\"filmeId\",\"nota\",\"momento\"] #Renomeando colunas do Dataframe Avaliacoes\n",
        "\n",
        "notas_medias_por_filme = avaliacoes.groupby(\"filmeId\")[\"nota\"].mean() #Calculando a média das notas por filme \n",
        "\n",
        "filmes_com_medias = filmes.join(notas_medias_por_filme, on =\"filmeId\") #Juntando Dataframe filmes + media de cada filme\n",
        "filmes_com_medias.columns = [\"filmeId\", \"titulo\", \"generos\", \"nota_media\"] # Renomeando coluna 'nota' para \"nota_media\"\n",
        "filmes_com_medias.head(15)\n",
        "\n",
        "# Renomeação poderia ser também dessa forma: filmes_com_media = filmes_com_media.rename(columns={'nota': 'nota_media'})\n",
        "\n",
        "\n",
        "\n",
        "\n"
      ],
      "execution_count": 0,
      "outputs": []
    },
    {
      "cell_type": "markdown",
      "metadata": {
        "id": "ROs19ULDoZTY",
        "colab_type": "text"
      },
      "source": [
        "# Desafio 3 - Colocar o número de avaliações por filme, isto é, não só a média mas o TOTAL de votos por filme."
      ]
    },
    {
      "cell_type": "code",
      "metadata": {
        "id": "cblixJZeonOR",
        "colab_type": "code",
        "colab": {
          "base_uri": "https://localhost:8080/",
          "height": 204
        },
        "outputId": "4151f0e6-cb24-478c-f301-55c4b3099e0d"
      },
      "source": [
        "import pandas as pd\n",
        "filmes = pd.read_csv(\"https://raw.githubusercontent.com/alura-cursos/introducao-a-data-science/master/aula0/ml-latest-small/movies.csv\") #Dataframe Filmes\n",
        "filmes.columns = [\"filmeId\", \"titulo\", \"generos\"] #Renomeando colunas do Dataframe Filmes\n",
        "\n",
        "avaliacoes = pd.read_csv(\"https://github.com/alura-cursos/introducao-a-data-science/blob/master/aula0/ml-latest-small/ratings.csv?raw=true\") #Dataframe Avaliacoes\n",
        "avaliacoes.columns = [\"usuarioId\",\"filmeId\",\"nota\",\"momento\"] #Renomeando colunas do Dataframe Avaliacoes\n",
        "\n",
        "total_votos_por_filme = avaliacoes.groupby('filmeId')['nota'].count() # counts the number of values in each column\n",
        "\n",
        "filmes_com_medias = filmes.join(notas_medias_por_filme, on =\"filmeId\") #Juntando Dataframe filmes + media de cada filme\n",
        "filmes_com_medias.columns = [\"filmeId\", \"titulo\", \"generos\", \"nota_media\"] # Renomeando coluna 'nota' para \"nota_media\"\n",
        "\n",
        "filmes_com_medias_e_votos = filmes_com_medias.join(total_votos_por_filme, on=\"filmeId\")\n",
        "filmes_com_medias_e_votos.columns = [\"filmeId\", \"titulo\",\"generos\", \"nota_media\", \"total_votos\"]\n",
        "filmes_com_medias_e_votos.head()\n",
        "\n",
        "\n",
        "\n",
        "\n"
      ],
      "execution_count": 24,
      "outputs": [
        {
          "output_type": "execute_result",
          "data": {
            "text/html": [
              "<div>\n",
              "<style scoped>\n",
              "    .dataframe tbody tr th:only-of-type {\n",
              "        vertical-align: middle;\n",
              "    }\n",
              "\n",
              "    .dataframe tbody tr th {\n",
              "        vertical-align: top;\n",
              "    }\n",
              "\n",
              "    .dataframe thead th {\n",
              "        text-align: right;\n",
              "    }\n",
              "</style>\n",
              "<table border=\"1\" class=\"dataframe\">\n",
              "  <thead>\n",
              "    <tr style=\"text-align: right;\">\n",
              "      <th></th>\n",
              "      <th>filmeId</th>\n",
              "      <th>titulo</th>\n",
              "      <th>generos</th>\n",
              "      <th>nota_media</th>\n",
              "      <th>total_votos</th>\n",
              "    </tr>\n",
              "  </thead>\n",
              "  <tbody>\n",
              "    <tr>\n",
              "      <th>0</th>\n",
              "      <td>1</td>\n",
              "      <td>Toy Story (1995)</td>\n",
              "      <td>Adventure|Animation|Children|Comedy|Fantasy</td>\n",
              "      <td>3.920930</td>\n",
              "      <td>215.0</td>\n",
              "    </tr>\n",
              "    <tr>\n",
              "      <th>1</th>\n",
              "      <td>2</td>\n",
              "      <td>Jumanji (1995)</td>\n",
              "      <td>Adventure|Children|Fantasy</td>\n",
              "      <td>3.431818</td>\n",
              "      <td>110.0</td>\n",
              "    </tr>\n",
              "    <tr>\n",
              "      <th>2</th>\n",
              "      <td>3</td>\n",
              "      <td>Grumpier Old Men (1995)</td>\n",
              "      <td>Comedy|Romance</td>\n",
              "      <td>3.259615</td>\n",
              "      <td>52.0</td>\n",
              "    </tr>\n",
              "    <tr>\n",
              "      <th>3</th>\n",
              "      <td>4</td>\n",
              "      <td>Waiting to Exhale (1995)</td>\n",
              "      <td>Comedy|Drama|Romance</td>\n",
              "      <td>2.357143</td>\n",
              "      <td>7.0</td>\n",
              "    </tr>\n",
              "    <tr>\n",
              "      <th>4</th>\n",
              "      <td>5</td>\n",
              "      <td>Father of the Bride Part II (1995)</td>\n",
              "      <td>Comedy</td>\n",
              "      <td>3.071429</td>\n",
              "      <td>49.0</td>\n",
              "    </tr>\n",
              "  </tbody>\n",
              "</table>\n",
              "</div>"
            ],
            "text/plain": [
              "   filmeId                              titulo  ... nota_media  total_votos\n",
              "0        1                    Toy Story (1995)  ...   3.920930        215.0\n",
              "1        2                      Jumanji (1995)  ...   3.431818        110.0\n",
              "2        3             Grumpier Old Men (1995)  ...   3.259615         52.0\n",
              "3        4            Waiting to Exhale (1995)  ...   2.357143          7.0\n",
              "4        5  Father of the Bride Part II (1995)  ...   3.071429         49.0\n",
              "\n",
              "[5 rows x 5 columns]"
            ]
          },
          "metadata": {
            "tags": []
          },
          "execution_count": 24
        }
      ]
    },
    {
      "cell_type": "markdown",
      "metadata": {
        "id": "hmPtsZp-rgfg",
        "colab_type": "text"
      },
      "source": [
        "# Desafio 4 - Arredondar as médias (coluna de nota média) para duas casas decimais."
      ]
    },
    {
      "cell_type": "code",
      "metadata": {
        "id": "8aRHvra2rmrz",
        "colab_type": "code",
        "colab": {
          "base_uri": "https://localhost:8080/",
          "height": 419
        },
        "outputId": "1957bc4e-404f-4317-da5d-d235237a85ec"
      },
      "source": [
        "import pandas as pd\n",
        "filmes = pd.read_csv(\"https://raw.githubusercontent.com/alura-cursos/introducao-a-data-science/master/aula0/ml-latest-small/movies.csv\") #Dataframe Filmes\n",
        "filmes.columns = [\"filmeId\", \"titulo\", \"generos\"] #Renomeando colunas do Dataframe Filmes\n",
        "\n",
        "avaliacoes = pd.read_csv(\"https://github.com/alura-cursos/introducao-a-data-science/blob/master/aula0/ml-latest-small/ratings.csv?raw=true\") #Dataframe Avaliacoes\n",
        "avaliacoes.columns = [\"usuarioId\",\"filmeId\",\"nota\",\"momento\"] #Renomeando colunas do Dataframe Avaliacoes\n",
        "\n",
        "notas_medias_por_filme = avaliacoes.groupby(\"filmeId\")[\"nota\"].mean() \n",
        "total_votos_por_filme = avaliacoes.groupby(\"filmeId\")[\"nota\"].count() # counts the number of values in each column\n",
        "\n",
        "filmes_com_medias = filmes.join(notas_medias_por_filme, on =\"filmeId\") #Juntando Dataframe filmes + media de cada filme\n",
        "filmes_com_medias.columns = [\"filmeId\", \"titulo\", \"generos\", \"nota_media\"] # Renomeando coluna 'nota' para \"nota_media\"\n",
        "\n",
        "filmes_com_medias_e_votos = filmes_com_medias.join(total_votos_por_filme, on=\"filmeId\")\n",
        "filmes_com_medias_e_votos.columns = [\"filmeId\", \"titulo\",\"generos\", \"nota_media\", \"total_votos\"]\n",
        "filmes_com_medias_e_votos['nota_media'] = filmes_com_medias_e_votos['nota_media'].round(2) # round a DataFrame to a variable number of decimal places.\n",
        "filmes_com_medias_e_votos\n"
      ],
      "execution_count": 37,
      "outputs": [
        {
          "output_type": "execute_result",
          "data": {
            "text/html": [
              "<div>\n",
              "<style scoped>\n",
              "    .dataframe tbody tr th:only-of-type {\n",
              "        vertical-align: middle;\n",
              "    }\n",
              "\n",
              "    .dataframe tbody tr th {\n",
              "        vertical-align: top;\n",
              "    }\n",
              "\n",
              "    .dataframe thead th {\n",
              "        text-align: right;\n",
              "    }\n",
              "</style>\n",
              "<table border=\"1\" class=\"dataframe\">\n",
              "  <thead>\n",
              "    <tr style=\"text-align: right;\">\n",
              "      <th></th>\n",
              "      <th>filmeId</th>\n",
              "      <th>titulo</th>\n",
              "      <th>generos</th>\n",
              "      <th>nota_media</th>\n",
              "      <th>total_votos</th>\n",
              "    </tr>\n",
              "  </thead>\n",
              "  <tbody>\n",
              "    <tr>\n",
              "      <th>0</th>\n",
              "      <td>1</td>\n",
              "      <td>Toy Story (1995)</td>\n",
              "      <td>Adventure|Animation|Children|Comedy|Fantasy</td>\n",
              "      <td>3.92</td>\n",
              "      <td>215.0</td>\n",
              "    </tr>\n",
              "    <tr>\n",
              "      <th>1</th>\n",
              "      <td>2</td>\n",
              "      <td>Jumanji (1995)</td>\n",
              "      <td>Adventure|Children|Fantasy</td>\n",
              "      <td>3.43</td>\n",
              "      <td>110.0</td>\n",
              "    </tr>\n",
              "    <tr>\n",
              "      <th>2</th>\n",
              "      <td>3</td>\n",
              "      <td>Grumpier Old Men (1995)</td>\n",
              "      <td>Comedy|Romance</td>\n",
              "      <td>3.26</td>\n",
              "      <td>52.0</td>\n",
              "    </tr>\n",
              "    <tr>\n",
              "      <th>3</th>\n",
              "      <td>4</td>\n",
              "      <td>Waiting to Exhale (1995)</td>\n",
              "      <td>Comedy|Drama|Romance</td>\n",
              "      <td>2.36</td>\n",
              "      <td>7.0</td>\n",
              "    </tr>\n",
              "    <tr>\n",
              "      <th>4</th>\n",
              "      <td>5</td>\n",
              "      <td>Father of the Bride Part II (1995)</td>\n",
              "      <td>Comedy</td>\n",
              "      <td>3.07</td>\n",
              "      <td>49.0</td>\n",
              "    </tr>\n",
              "    <tr>\n",
              "      <th>...</th>\n",
              "      <td>...</td>\n",
              "      <td>...</td>\n",
              "      <td>...</td>\n",
              "      <td>...</td>\n",
              "      <td>...</td>\n",
              "    </tr>\n",
              "    <tr>\n",
              "      <th>9737</th>\n",
              "      <td>193581</td>\n",
              "      <td>Black Butler: Book of the Atlantic (2017)</td>\n",
              "      <td>Action|Animation|Comedy|Fantasy</td>\n",
              "      <td>4.00</td>\n",
              "      <td>1.0</td>\n",
              "    </tr>\n",
              "    <tr>\n",
              "      <th>9738</th>\n",
              "      <td>193583</td>\n",
              "      <td>No Game No Life: Zero (2017)</td>\n",
              "      <td>Animation|Comedy|Fantasy</td>\n",
              "      <td>3.50</td>\n",
              "      <td>1.0</td>\n",
              "    </tr>\n",
              "    <tr>\n",
              "      <th>9739</th>\n",
              "      <td>193585</td>\n",
              "      <td>Flint (2017)</td>\n",
              "      <td>Drama</td>\n",
              "      <td>3.50</td>\n",
              "      <td>1.0</td>\n",
              "    </tr>\n",
              "    <tr>\n",
              "      <th>9740</th>\n",
              "      <td>193587</td>\n",
              "      <td>Bungo Stray Dogs: Dead Apple (2018)</td>\n",
              "      <td>Action|Animation</td>\n",
              "      <td>3.50</td>\n",
              "      <td>1.0</td>\n",
              "    </tr>\n",
              "    <tr>\n",
              "      <th>9741</th>\n",
              "      <td>193609</td>\n",
              "      <td>Andrew Dice Clay: Dice Rules (1991)</td>\n",
              "      <td>Comedy</td>\n",
              "      <td>4.00</td>\n",
              "      <td>1.0</td>\n",
              "    </tr>\n",
              "  </tbody>\n",
              "</table>\n",
              "<p>9742 rows × 5 columns</p>\n",
              "</div>"
            ],
            "text/plain": [
              "      filmeId  ... total_votos\n",
              "0           1  ...       215.0\n",
              "1           2  ...       110.0\n",
              "2           3  ...        52.0\n",
              "3           4  ...         7.0\n",
              "4           5  ...        49.0\n",
              "...       ...  ...         ...\n",
              "9737   193581  ...         1.0\n",
              "9738   193583  ...         1.0\n",
              "9739   193585  ...         1.0\n",
              "9740   193587  ...         1.0\n",
              "9741   193609  ...         1.0\n",
              "\n",
              "[9742 rows x 5 columns]"
            ]
          },
          "metadata": {
            "tags": []
          },
          "execution_count": 37
        }
      ]
    },
    {
      "cell_type": "markdown",
      "metadata": {
        "id": "y7vjzre4uZb7",
        "colab_type": "text"
      },
      "source": [
        "# Desafio 5 - Descobrir os generos dos filmes (quais são eles, únicos). (esse aqui o bicho pega)"
      ]
    },
    {
      "cell_type": "code",
      "metadata": {
        "id": "2hBBT5-uueiq",
        "colab_type": "code",
        "colab": {}
      },
      "source": [
        "import pandas as pd\n",
        "filmes = pd.read_csv(\"https://raw.githubusercontent.com/alura-cursos/introducao-a-data-science/master/aula0/ml-latest-small/movies.csv\") #Dataframe Filmes\n",
        "filmes.columns = [\"filmeId\", \"titulo\", \"generos\"] #Renomeando colunas do Dataframe Filmes\n",
        "\n",
        "avaliacoes = pd.read_csv(\"https://github.com/alura-cursos/introducao-a-data-science/blob/master/aula0/ml-latest-small/ratings.csv?raw=true\") #Dataframe Avaliacoes\n",
        "avaliacoes.columns = [\"usuarioId\",\"filmeId\",\"nota\",\"momento\"] #Renomeando colunas do Dataframe Avaliacoes\n",
        "\n",
        "notas_medias_por_filme = avaliacoes.groupby(\"filmeId\")[\"nota\"].mean() \n",
        "total_votos_por_filme = avaliacoes.groupby(\"filmeId\")[\"nota\"].count() # counts the number of values in each column\n",
        "\n",
        "filmes_com_medias = filmes.join(notas_medias_por_filme, on =\"filmeId\") #Juntando Dataframe filmes + media de cada filme\n",
        "filmes_com_medias.columns = [\"filmeId\", \"titulo\", \"generos\", \"nota_media\"] # Renomeando coluna 'nota' para \"nota_media\"\n",
        "\n",
        "filmes_com_medias_e_votos = filmes_com_medias.join(total_votos_por_filme, on=\"filmeId\")\n",
        "filmes_com_medias_e_votos.columns = [\"filmeId\", \"titulo\",\"generos\", \"nota_media\", \"total_votos\"]\n",
        "filmes_com_medias_e_votos['nota_media'] = filmes_com_medias_e_votos['nota_media'].round(2) # round a DataFrame to a variable number of decimal places.\n",
        "\n",
        "generos_filmes = filmes_com_medias_e_votos.generos.str.get_dummies('|') #\"str. get_dummies()\"\" is used to separate each string in the caller series at the passed separator.\n",
        "generos = generos_filmes.columns.to_list()\n",
        "\n",
        "display(\" ------------- Gêneros dos Filmes ----------------\")\n",
        "generos"
      ],
      "execution_count": 0,
      "outputs": []
    },
    {
      "cell_type": "markdown",
      "metadata": {
        "id": "x7zp0YR7wxHW",
        "colab_type": "text"
      },
      "source": [
        "# Desafio 6 - Contar o número de aparições de cada genero."
      ]
    },
    {
      "cell_type": "code",
      "metadata": {
        "id": "KyYsgcYtw21K",
        "colab_type": "code",
        "colab": {}
      },
      "source": [
        "import pandas as pd\n",
        "filmes = pd.read_csv(\"https://raw.githubusercontent.com/alura-cursos/introducao-a-data-science/master/aula0/ml-latest-small/movies.csv\") #Dataframe Filmes\n",
        "filmes.columns = [\"filmeId\", \"titulo\", \"generos\"] #Renomeando colunas do Dataframe Filmes\n",
        "\n",
        "avaliacoes = pd.read_csv(\"https://github.com/alura-cursos/introducao-a-data-science/blob/master/aula0/ml-latest-small/ratings.csv?raw=true\") #Dataframe Avaliacoes\n",
        "avaliacoes.columns = [\"usuarioId\",\"filmeId\",\"nota\",\"momento\"] #Renomeando colunas do Dataframe Avaliacoes\n",
        "\n",
        "notas_medias_por_filme = avaliacoes.groupby(\"filmeId\")[\"nota\"].mean() \n",
        "total_votos_por_filme = avaliacoes.groupby(\"filmeId\")[\"nota\"].count() # counts the number of values in each column\n",
        "\n",
        "filmes_com_medias = filmes.join(notas_medias_por_filme, on =\"filmeId\") #Juntando Dataframe filmes + media de cada filme\n",
        "filmes_com_medias.columns = [\"filmeId\", \"titulo\", \"generos\", \"nota_media\"] # Renomeando coluna 'nota' para \"nota_media\"\n",
        "\n",
        "filmes_com_medias_e_votos = filmes_com_medias.join(total_votos_por_filme, on=\"filmeId\")\n",
        "filmes_com_medias_e_votos.columns = [\"filmeId\", \"titulo\",\"generos\", \"nota_media\", \"total_votos\"]\n",
        "filmes_com_medias_e_votos['nota_media'] = filmes_com_medias_e_votos['nota_media'].round(2) # round a DataFrame to a variable number of decimal places.\n",
        "\n",
        "total_filmes_por_genero = filmes_com_medias_e_votos.generos.str.get_dummies().sum() #Extrair a soma \n",
        "\n",
        "display(\" --------- TOTAL DE FILMES POR GENERO ------------\")\n",
        "total_filmes_por_genero"
      ],
      "execution_count": 0,
      "outputs": []
    },
    {
      "cell_type": "markdown",
      "metadata": {
        "id": "IryN7IhCyNiT",
        "colab_type": "text"
      },
      "source": [
        "# Desafio 7 - Plotar o gráfico de aparições de cada genero. Pode ser um gráfico de tipo igual a barra."
      ]
    },
    {
      "cell_type": "code",
      "metadata": {
        "id": "6iLx0-nHyYpn",
        "colab_type": "code",
        "colab": {
          "base_uri": "https://localhost:8080/",
          "height": 485
        },
        "outputId": "57ce33f5-ed41-4f63-d805-0ad287bedc7f"
      },
      "source": [
        "import pandas as pd\n",
        "filmes = pd.read_csv(\"https://raw.githubusercontent.com/alura-cursos/introducao-a-data-science/master/aula0/ml-latest-small/movies.csv\") #Dataframe Filmes\n",
        "filmes.columns = [\"filmeId\", \"titulo\", \"generos\"] #Renomeando colunas do Dataframe Filmes\n",
        "\n",
        "avaliacoes = pd.read_csv(\"https://github.com/alura-cursos/introducao-a-data-science/blob/master/aula0/ml-latest-small/ratings.csv?raw=true\") #Dataframe Avaliacoes\n",
        "avaliacoes.columns = [\"usuarioId\",\"filmeId\",\"nota\",\"momento\"] #Renomeando colunas do Dataframe Avaliacoes\n",
        "\n",
        "notas_medias_por_filme = avaliacoes.groupby(\"filmeId\")[\"nota\"].mean() \n",
        "total_votos_por_filme = avaliacoes.groupby(\"filmeId\")[\"nota\"].count() # counts the number of values in each column\n",
        "\n",
        "filmes_com_medias = filmes.join(notas_medias_por_filme, on =\"filmeId\") #Juntando Dataframe filmes + media de cada filme\n",
        "filmes_com_medias.columns = [\"filmeId\", \"titulo\", \"generos\", \"nota_media\"] # Renomeando coluna 'nota' para \"nota_media\"\n",
        "\n",
        "filmes_com_medias_e_votos = filmes_com_medias.join(total_votos_por_filme, on=\"filmeId\")\n",
        "filmes_com_medias_e_votos.columns = [\"filmeId\", \"titulo\",\"generos\", \"nota_media\", \"total_votos\"]\n",
        "filmes_com_medias_e_votos['nota_media'] = filmes_com_medias_e_votos['nota_media'].round(2) # round a DataFrame to a variable number of decimal places.\n",
        "\n",
        "total_filmes_por_genero = filmes_com_medias_e_votos.generos.str.get_dummies().sum() #Extrair a soma \n",
        "total_filmes_por_genero.sort_values(ascending=False).plot(kind='bar', figsize=(16, 6), title='Gráfico de Gêneros')\n"
      ],
      "execution_count": 48,
      "outputs": [
        {
          "output_type": "execute_result",
          "data": {
            "text/plain": [
              "<matplotlib.axes._subplots.AxesSubplot at 0x7f33941cf908>"
            ]
          },
          "metadata": {
            "tags": []
          },
          "execution_count": 48
        },
        {
          "output_type": "display_data",
          "data": {
            "image/png": "[encoded data removed]",
            "text/plain": [
              "<Figure size 1152x432 with 1 Axes>"
            ]
          },
          "metadata": {
            "tags": [],
            "needs_background": "light"
          }
        }
      ]
    }
  ]
}